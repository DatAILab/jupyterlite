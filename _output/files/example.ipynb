{
 "cells": [
  {
   "cell_type": "markdown",
   "id": "b9371807",
   "metadata": {},
   "source": [
    "# Welcome to JupyterLite\n",
    "\n",
    "This is a test notebook."
   ]
  },
  {
   "cell_type": "code",
   "execution_count": null,
   "id": "f977e5d8",
   "metadata": {},
   "outputs": [],
   "source": [
    "print('Hello, JupyterLite!')"
   ]
  }
 ],
 "metadata": {},
 "nbformat": 4,
 "nbformat_minor": 5
}